{
 "cells": [
  {
   "cell_type": "markdown",
   "metadata": {},
   "source": [
    "# Task 2\n",
    "Erofeevsky Alexandr && Konina Arina"
   ]
  },
  {
   "cell_type": "code",
   "execution_count": 1,
   "metadata": {},
   "outputs": [],
   "source": [
    "import random\n",
    "import time\n",
    "import numpy as np\n",
    "import matplotlib.pyplot as plt\n",
    "from copy import deepcopy"
   ]
  },
  {
   "cell_type": "code",
   "execution_count": 36,
   "metadata": {},
   "outputs": [
    {
     "name": "stdout",
     "output_type": "stream",
     "text": [
      "0.35876747335765447\n"
     ]
    },
    {
     "data": {
      "text/plain": [
       "0.4198359178928409"
      ]
     },
     "execution_count": 36,
     "metadata": {},
     "output_type": "execute_result"
    }
   ],
   "source": [
    "alpha = random.random()\n",
    "print(alpha)\n",
    "beta = random.random()\n",
    "beta"
   ]
  },
  {
   "cell_type": "code",
   "execution_count": 37,
   "metadata": {},
   "outputs": [],
   "source": [
    "x = [k/100 for k in range(101)]"
   ]
  },
  {
   "cell_type": "code",
   "execution_count": 38,
   "metadata": {},
   "outputs": [],
   "source": [
    "y = [alpha*xk + beta + np.random.normal() for xk in x]"
   ]
  },
  {
   "cell_type": "code",
   "execution_count": 130,
   "metadata": {},
   "outputs": [
    {
     "data": {
      "image/png": "[encoded data removed]",
      "text/plain": [
       "<Figure size 432x288 with 1 Axes>"
      ]
     },
     "metadata": {
      "needs_background": "light"
     },
     "output_type": "display_data"
    }
   ],
   "source": [
    "plt.scatter(x, y)\n",
    "plt.show()"
   ]
  },
  {
   "cell_type": "code",
   "execution_count": 40,
   "metadata": {},
   "outputs": [],
   "source": [
    "def f(x,a,b):\n",
    "    return a*x+b"
   ]
  },
  {
   "cell_type": "code",
   "execution_count": 41,
   "metadata": {},
   "outputs": [],
   "source": [
    "def D(a,b):\n",
    "    return sum([(f(xk,a,b)-yk)**2 for xk, yk in zip(x, y)])"
   ]
  },
  {
   "cell_type": "code",
   "execution_count": 49,
   "metadata": {},
   "outputs": [],
   "source": [
    "def f2(x,a,b):\n",
    "    return a/(1+x*b)"
   ]
  },
  {
   "cell_type": "code",
   "execution_count": 50,
   "metadata": {},
   "outputs": [],
   "source": [
    "def D2(a,b):\n",
    "    return sum([(f2(xk,a,b)-yk)**2 for xk, yk in zip(x, y)])"
   ]
  },
  {
   "cell_type": "markdown",
   "metadata": {},
   "source": [
    "### Exhaustive search"
   ]
  },
  {
   "cell_type": "code",
   "execution_count": 45,
   "metadata": {},
   "outputs": [],
   "source": [
    "def exhaustive_search(function, lower, upper, precision):\n",
    "    n = int((upper-lower)/precision)\n",
    "    steps = [lower + k*(upper-lower)/n for k in range(n+1)]\n",
    "    \n",
    "    min_arg = 0\n",
    "    min_func = 10000\n",
    "    \n",
    "    for x1 in steps:\n",
    "        for x2 in steps:\n",
    "            if min_func > function(x1, x2):\n",
    "                min_arg1 = x1\n",
    "                min_arg2 = x2\n",
    "                min_func = function(x1, x2)\n",
    "            \n",
    "    return min_arg1, min_arg2, min_func"
   ]
  },
  {
   "cell_type": "code",
   "execution_count": 126,
   "metadata": {},
   "outputs": [],
   "source": [
    "lower = 0\n",
    "upper = 1\n",
    "precision = 0.001\n",
    "\n",
    "a1_exh, b1_exh, _ = exhaustive_search(D, lower, upper, precision)"
   ]
  },
  {
   "cell_type": "code",
   "execution_count": 70,
   "metadata": {},
   "outputs": [
    {
     "name": "stdout",
     "output_type": "stream",
     "text": [
      "0.737 0.392\n"
     ]
    }
   ],
   "source": [
    "print(a1, b1)"
   ]
  },
  {
   "cell_type": "code",
   "execution_count": 131,
   "metadata": {},
   "outputs": [
    {
     "data": {
      "image/png": "[encoded data removed]",
      "text/plain": [
       "<Figure size 432x288 with 1 Axes>"
      ]
     },
     "metadata": {
      "needs_background": "light"
     },
     "output_type": "display_data"
    }
   ],
   "source": [
    "plt.scatter(x, y)\n",
    "plt.plot(x, [f(xk, a1_exh, b1_exh) for xk in x])\n",
    "plt.show()"
   ]
  },
  {
   "cell_type": "code",
   "execution_count": 128,
   "metadata": {},
   "outputs": [],
   "source": [
    "lower = 0\n",
    "upper = 1\n",
    "precision = 0.001\n",
    "\n",
    "a2_exh, b2_exh, _ = exhaustive_search(D2, lower, upper, precision)"
   ]
  },
  {
   "cell_type": "code",
   "execution_count": 73,
   "metadata": {},
   "outputs": [
    {
     "name": "stdout",
     "output_type": "stream",
     "text": [
      "0.761 0.0\n"
     ]
    }
   ],
   "source": [
    "print(a2, b2)"
   ]
  },
  {
   "cell_type": "code",
   "execution_count": 132,
   "metadata": {},
   "outputs": [
    {
     "data": {
      "image/png": "[encoded data removed]",
      "text/plain": [
       "<Figure size 432x288 with 1 Axes>"
      ]
     },
     "metadata": {
      "needs_background": "light"
     },
     "output_type": "display_data"
    }
   ],
   "source": [
    "plt.scatter(x, y)\n",
    "plt.plot(x, [f2(xk, a2_exh, b2_exh) for xk in x])\n",
    "plt.show()"
   ]
  },
  {
   "cell_type": "markdown",
   "metadata": {},
   "source": [
    "### Gauss"
   ]
  },
  {
   "cell_type": "code",
   "execution_count": 54,
   "metadata": {},
   "outputs": [],
   "source": [
    "def golden_section(function, lower, upper, precision):\n",
    "    \n",
    "    iterations = 0\n",
    "\n",
    "    while abs(lower - upper) > precision:\n",
    "\n",
    "        x1 = lower + (3-np.sqrt(5))/2*(upper-lower)\n",
    "        x2 = upper + (-3+np.sqrt(5))/2*(upper-lower)\n",
    "\n",
    "\n",
    "        if function(x1) >= function(x2):\n",
    "            lower = x1\n",
    "        else:\n",
    "            upper = x2\n",
    "\n",
    "        iterations += 1\n",
    "\n",
    "    extr = (lower + upper)/2\n",
    "\n",
    "    return extr, function(extr)"
   ]
  },
  {
   "cell_type": "code",
   "execution_count": 76,
   "metadata": {},
   "outputs": [],
   "source": [
    "def gauss(function, lower, upper, precision):\n",
    "    \n",
    "    x1 = 1\n",
    "    x2 = 2\n",
    "    \n",
    "    curr_x1 = 10\n",
    "    curr_x2 = 10\n",
    "    \n",
    "    while abs(curr_x1 - x1) > precision and abs(curr_x2 - x2) > precision and abs(function(curr_x1, curr_x2) - function(x1, x2)) > precision:\n",
    "        curr_x1 = deepcopy(x1)\n",
    "        curr_x2 = deepcopy(x2)\n",
    "        def min_x1(x1):\n",
    "            return function(x1, x2)\n",
    "        x1, _ = golden_section(min_x1, lower, upper, precision)\n",
    "        \n",
    "        def min_x2(x2):\n",
    "            return function(x1, x2)\n",
    "        x2, _ = golden_section(min_x2, lower, upper, precision)\n",
    "            \n",
    "    return x1, x2, function(x1, x2)"
   ]
  },
  {
   "cell_type": "code",
   "execution_count": 121,
   "metadata": {},
   "outputs": [],
   "source": [
    "lower = 0\n",
    "upper = 1\n",
    "precision = 0.001\n",
    "\n",
    "a1, b1, _ = gauss(D, lower, upper, precision)"
   ]
  },
  {
   "cell_type": "code",
   "execution_count": 122,
   "metadata": {},
   "outputs": [
    {
     "name": "stdout",
     "output_type": "stream",
     "text": [
      "0.7264710838722914 0.39740757618995837\n"
     ]
    }
   ],
   "source": [
    "print(a1, b1)"
   ]
  },
  {
   "cell_type": "code",
   "execution_count": 133,
   "metadata": {},
   "outputs": [
    {
     "data": {
      "image/png": "[encoded data removed]",
      "text/plain": [
       "<Figure size 432x288 with 1 Axes>"
      ]
     },
     "metadata": {
      "needs_background": "light"
     },
     "output_type": "display_data"
    }
   ],
   "source": [
    "plt.scatter(x, y)\n",
    "plt.plot(x, [f(xk, a1, b1) for xk in x])\n",
    "plt.show()"
   ]
  },
  {
   "cell_type": "code",
   "execution_count": 80,
   "metadata": {},
   "outputs": [],
   "source": [
    "lower = 0\n",
    "upper = 1\n",
    "precision = 0.001\n",
    "\n",
    "a2, b2, _ = gauss(D2, lower, upper, precision)"
   ]
  },
  {
   "cell_type": "code",
   "execution_count": 81,
   "metadata": {},
   "outputs": [
    {
     "data": {
      "text/plain": [
       "(0.9996334312820714, 0.25004326756792805)"
      ]
     },
     "execution_count": 81,
     "metadata": {},
     "output_type": "execute_result"
    }
   ],
   "source": [
    "a2, b2"
   ]
  },
  {
   "cell_type": "code",
   "execution_count": 134,
   "metadata": {},
   "outputs": [
    {
     "data": {
      "image/png": "[encoded data removed]",
      "text/plain": [
       "<Figure size 432x288 with 1 Axes>"
      ]
     },
     "metadata": {
      "needs_background": "light"
     },
     "output_type": "display_data"
    }
   ],
   "source": [
    "plt.scatter(x, y)\n",
    "plt.plot(x, [f2(xk, a2, b2) for xk in x])\n",
    "plt.show()"
   ]
  },
  {
   "cell_type": "markdown",
   "metadata": {},
   "source": [
    "### Nelder-Mead"
   ]
  },
  {
   "cell_type": "code",
   "execution_count": 117,
   "metadata": {},
   "outputs": [],
   "source": [
    "def nelder(function, lower, upper, precision):\n",
    "    alpha = 1\n",
    "    beta = 0.5\n",
    "    gamma = 2\n",
    "    \n",
    "    curr_f = 0\n",
    "    \n",
    "    init1 = [0.5,0.7]\n",
    "    init2 = [0,0.5]\n",
    "    init3 = [0.5,0]\n",
    "    \n",
    "    fl = function(*init1)\n",
    "    fg = function(*init2)\n",
    "    fh = function(*init3)\n",
    "    \n",
    "    [[xl,fl],[xg,fg],[xh,fh]] = [[init1,fl],[init2,fg],[init3,fh]]\n",
    "    \n",
    "    while abs(fl-fg) > precision and abs(fl-fh) > precision and abs(fh-fg) > precision:\n",
    "#         print([[xl,fl],[xg,fg],[xh,fh]])\n",
    "        all_f = [[xl,fl],[xg,fg],[xh,fh]]\n",
    "        all_f.sort(key = lambda x: x[1])\n",
    "        [[xl,fl],[xg,fg],[xh,fh]] = all_f\n",
    "        \n",
    "        xc = [1/2*(xl[0]+xg[0]), 1/2*(xl[1]+xg[1])]\n",
    "        \n",
    "        xr = [(1+alpha)*xc[0]-alpha*xh[0], (1+alpha)*xc[1]-alpha*xh[1]]\n",
    "        fr = function(*xr)\n",
    "        \n",
    "        if fr < fl:\n",
    "            xe = [(1-gamma)*xc[0]+gamma*xr[0], (1-gamma)*xc[1]+gamma*xr[1]]\n",
    "            fe = function(*xe)\n",
    "            if fe < fr:\n",
    "                xh = xe\n",
    "                fh = function(*xh)\n",
    "            elif fr < fe:\n",
    "                xh = xr\n",
    "                fh = function(*xh)\n",
    "            else:\n",
    "                print('error')\n",
    "        elif fl < fr < fg:\n",
    "            xh = xr\n",
    "            fh = function(*xh)\n",
    "        elif fg < fr < fh:\n",
    "            xr, xh = xh, xr\n",
    "            fr, fh = fh, fr\n",
    "            xs = [beta*xh[0]+(1-beta)*xc[0], beta*xh[1]+(1-beta)*xc[1]]\n",
    "            fs = function(*xs)\n",
    "            if fs < fh:\n",
    "                xh = xs\n",
    "                fh = function(*xh)\n",
    "            elif fs > fh:\n",
    "                xg = [xl[0]+(xg[0]-xl[0])/2, xl[1]+(xg[1]-xl[1])/2]\n",
    "                fg = function(*xg)\n",
    "            else:\n",
    "                print('error')\n",
    "        elif fh < fr:\n",
    "            xs = [beta*xh[0]+(1-beta)*xc[0], beta*xh[1]+(1-beta)*xc[1]]\n",
    "            fs = function(*xs)\n",
    "            if fs < fh:\n",
    "                xh = xs\n",
    "                fh = function(*xh)\n",
    "            elif fs > fh:\n",
    "                xg = [xl[0]+(xg[0]-xl[0])/2, xl[1]+(xg[1]-xl[1])/2]\n",
    "                fg = function(*xg)\n",
    "            else:\n",
    "                print('error')\n",
    "        else:\n",
    "            print('error')\n",
    "    return all_f[0][0]"
   ]
  },
  {
   "cell_type": "code",
   "execution_count": 119,
   "metadata": {},
   "outputs": [],
   "source": [
    "lower = 0\n",
    "upper = 1\n",
    "precision = 0.001\n",
    "\n",
    "[a1, b1] = nelder(D, lower, upper, precision)"
   ]
  },
  {
   "cell_type": "code",
   "execution_count": 135,
   "metadata": {},
   "outputs": [
    {
     "data": {
      "image/png": "[encoded data removed]",
      "text/plain": [
       "<Figure size 432x288 with 1 Axes>"
      ]
     },
     "metadata": {
      "needs_background": "light"
     },
     "output_type": "display_data"
    }
   ],
   "source": [
    "plt.scatter(x, y)\n",
    "plt.plot(x, [f(xk, a1, b1) for xk in x])\n",
    "plt.show()"
   ]
  },
  {
   "cell_type": "code",
   "execution_count": 124,
   "metadata": {},
   "outputs": [],
   "source": [
    "lower = 0\n",
    "upper = 1\n",
    "precision = 0.001\n",
    "\n",
    "[a2, b2] = nelder(D2, lower, upper, precision)"
   ]
  },
  {
   "cell_type": "code",
   "execution_count": 136,
   "metadata": {},
   "outputs": [
    {
     "data": {
      "image/png": "[encoded data removed]",
      "text/plain": [
       "<Figure size 432x288 with 1 Axes>"
      ]
     },
     "metadata": {
      "needs_background": "light"
     },
     "output_type": "display_data"
    }
   ],
   "source": [
    "plt.scatter(x, y)\n",
    "plt.plot(x, [f2(xk, a2, b2) for xk in x])\n",
    "plt.show()"
   ]
  },
  {
   "cell_type": "code",
   "execution_count": null,
   "metadata": {},
   "outputs": [],
   "source": []
  }
 ],
 "metadata": {
  "kernelspec": {
   "display_name": "Python 3",
   "language": "python",
   "name": "python3"
  },
  "language_info": {
   "codemirror_mode": {
    "name": "ipython",
    "version": 3
   },
   "file_extension": ".py",
   "mimetype": "text/x-python",
   "name": "python",
   "nbconvert_exporter": "python",
   "pygments_lexer": "ipython3",
   "version": "3.7.1"
  }
 },
 "nbformat": 4,
 "nbformat_minor": 4
}
